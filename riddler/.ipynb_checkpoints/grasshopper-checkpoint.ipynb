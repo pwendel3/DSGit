{
 "cells": [
  {
   "cell_type": "code",
   "execution_count": 10,
   "metadata": {},
   "outputs": [],
   "source": [
    "import random\n",
    "import numpy as np\n",
    "import matplotlib.pyplot as plt\n",
    "import seaborn as sns\n",
    "#from matplotlib import animation,rc\n",
    "#from Ipython.display import HTML, Image\n",
    "\n",
    "%matplotlib inline"
   ]
  },
  {
   "cell_type": "code",
   "execution_count": 11,
   "metadata": {
    "collapsed": true
   },
   "outputs": [],
   "source": [
    "\n",
    "def pilsim(pillsize=60,poursize=4,sims=100000):\n",
    "        \n",
    "    prefvec=[]\n",
    "    runprefvec=[]\n",
    "    dosesize=poursize/2\n",
    "    for i in range(sims):\n",
    "        vitvec=random.sample([True]*int(pillsize/2)+[False]*int(pillsize/2),pillsize)\n",
    "        vits=0\n",
    "        preftot=0\n",
    "        while len(vitvec)>0:\n",
    "            pour=vitvec[:4]\n",
    "            vitvec=vitvec[4:]\n",
    "            pref=min(dosesize,sum(pour))\n",
    "            preftot+=pref\n",
    "            vits+=dosesize\n",
    "            prefrat=preftot/vits\n",
    "        prefvec=prefvec+[prefrat]\n",
    "        \n",
    "        runprefvec=runprefvec+[np.mean(prefvec)]\n",
    "    return(prefvec,runprefvec)"
   ]
  },
  {
   "cell_type": "code",
   "execution_count": 7,
   "metadata": {},
   "outputs": [],
   "source": [
    "prefvec,runvec=pilsim()"
   ]
  },
  {
   "cell_type": "code",
   "execution_count": 12,
   "metadata": {},
   "outputs": [
    {
     "data": {
      "text/plain": [
       "[<matplotlib.lines.Line2D at 0x2593dbd1588>]"
      ]
     },
     "execution_count": 12,
     "metadata": {},
     "output_type": "execute_result"
    },
    {
     "data": {
      "image/png": "[encoded data removed]",
      "text/plain": [
       "<matplotlib.figure.Figure at 0x2593db9c400>"
      ]
     },
     "metadata": {},
     "output_type": "display_data"
    }
   ],
   "source": [
    "\n",
    "plt.plot(prefvec[:1000],'o')\n",
    "plt.plot(runvec[:1000],lw=3)"
   ]
  },
  {
   "cell_type": "code",
   "execution_count": 13,
   "metadata": {},
   "outputs": [
    {
     "data": {
      "text/plain": [
       "0.8189363333333336"
      ]
     },
     "execution_count": 13,
     "metadata": {},
     "output_type": "execute_result"
    }
   ],
   "source": [
    "runvec[-1]"
   ]
  },
  {
   "cell_type": "code",
   "execution_count": null,
   "metadata": {
    "collapsed": true
   },
   "outputs": [],
   "source": []
  }
 ],
 "metadata": {
  "kernelspec": {
   "display_name": "Python 3",
   "language": "python",
   "name": "python3"
  }
 },
 "nbformat": 4,
 "nbformat_minor": 2
}
