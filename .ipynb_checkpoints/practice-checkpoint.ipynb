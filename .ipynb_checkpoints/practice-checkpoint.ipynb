{
 "cells": [
  {
   "cell_type": "code",
   "execution_count": 1,
   "metadata": {},
   "outputs": [
    {
     "data": {
      "text/plain": [
       "5"
      ]
     },
     "execution_count": 1,
     "metadata": {},
     "output_type": "execute_result"
    }
   ],
   "source": [
    "len('peter')"
   ]
  },
  {
   "cell_type": "code",
   "execution_count": 26,
   "metadata": {},
   "outputs": [],
   "source": [
    "def revstring(stringin,left_index=0,right_index=0):\n",
    "    if(right_index==0):\n",
    "        right_index=len(stringin)-1\n",
    "    list_of_chars=list(stringin)\n",
    "    #print(list_of_chars)\n",
    "    while left_index<right_index:\n",
    "        list_of_chars[left_index],list_of_chars[right_index]=list_of_chars[right_index],list_of_chars[left_index]\n",
    "        left_index+=1\n",
    "        right_index-=1\n",
    "    return(list_of_chars)\n"
   ]
  },
  {
   "cell_type": "code",
   "execution_count": 27,
   "metadata": {},
   "outputs": [
    {
     "data": {
      "text/plain": [
       "['r', 'e', 't', 'e', 'p']"
      ]
     },
     "execution_count": 27,
     "metadata": {},
     "output_type": "execute_result"
    }
   ],
   "source": [
    "revstring('peter')"
   ]
  },
  {
   "cell_type": "code",
   "execution_count": 526,
   "metadata": {},
   "outputs": [],
   "source": [
    "def revwords(stringin):\n",
    "    list_of_chars=list(stringin)\n",
    "    start_word=0\n",
    "    end_word=0\n",
    "    for i in range(len(list_of_chars)):\n",
    "        if (list_of_chars[i]==' '):\n",
    "            print(list_of_chars[start_word:i])\n",
    "            list_of_chars=revstring(list_of_chars,start_word,i-1)\n",
    "            start_word=i+1\n",
    "        elif (i==len(list_of_chars)-1):\n",
    "            list_of_chars=revstring(list_of_chars,start_word,i)\n",
    "            \n",
    "        #else:\n",
    "            \n",
    "    return(list_of_chars)"
   ]
  },
  {
   "cell_type": "code",
   "execution_count": 528,
   "metadata": {},
   "outputs": [
    {
     "name": "stdout",
     "output_type": "stream",
     "text": [
      "['a', 'b', 'c']\n",
      "['p', 'l', 'e', 'a', 's', 'e']\n",
      "[]\n",
      "[]\n",
      "[]\n",
      "[]\n",
      "['i', 't', 's']\n"
     ]
    },
    {
     "data": {
      "text/plain": [
       "['c',\n",
       " 'b',\n",
       " 'a',\n",
       " ' ',\n",
       " 'e',\n",
       " 's',\n",
       " 'a',\n",
       " 'e',\n",
       " 'l',\n",
       " 'p',\n",
       " ' ',\n",
       " ' ',\n",
       " ' ',\n",
       " ' ',\n",
       " ' ',\n",
       " 's',\n",
       " 't',\n",
       " 'i',\n",
       " ' ',\n",
       " 'g',\n",
       " 'n',\n",
       " 'i',\n",
       " 'k',\n",
       " 'r',\n",
       " 'o',\n",
       " 'w']"
      ]
     },
     "execution_count": 528,
     "metadata": {},
     "output_type": "execute_result"
    }
   ],
   "source": [
    "revwords('abc please     its working')"
   ]
  },
  {
   "cell_type": "code",
   "execution_count": 518,
   "metadata": {},
   "outputs": [
    {
     "data": {
      "text/plain": [
       "'e'"
      ]
     },
     "execution_count": 518,
     "metadata": {},
     "output_type": "execute_result"
    }
   ],
   "source": [
    "x='abc please'\n",
    "x[len(x)-1]"
   ]
  },
  {
   "cell_type": "code",
   "execution_count": 499,
   "metadata": {},
   "outputs": [],
   "source": [
    "def primefact(x):\n",
    "    div=2\n",
    "    diction={}\n",
    "    while x!=1:\n",
    "        if(x%div)==0:\n",
    "            x=x/div\n",
    "            #print(div)\n",
    "            #print(x)\n",
    "            #print(diction)\n",
    "            if div in diction.keys():\n",
    "                #print(div)\n",
    "                diction[div]+=1\n",
    "            else:\n",
    "                diction[div]=1\n",
    "        else:\n",
    "            div+=1\n",
    "    return(diction)"
   ]
  },
  {
   "cell_type": "code",
   "execution_count": 81,
   "metadata": {},
   "outputs": [
    {
     "data": {
      "text/plain": [
       "[2, 3, 5]"
      ]
     },
     "execution_count": 81,
     "metadata": {},
     "output_type": "execute_result"
    }
   ],
   "source": [
    "primefact(2250000)"
   ]
  },
  {
   "cell_type": "code",
   "execution_count": 97,
   "metadata": {},
   "outputs": [],
   "source": [
    "x=primefact(225000000)"
   ]
  },
  {
   "cell_type": "code",
   "execution_count": 5,
   "metadata": {},
   "outputs": [],
   "source": [
    "def movingav(vect):\n",
    "    leng=len(vect)\n",
    "    out=[0]*len(vect)\n",
    "    run_sum=0\n",
    "    for i in range(leng):\n",
    "        run_sum+=vect[i]\n",
    "        mavg=run_sum/(1+i)\n",
    "        out[i]=mavg\n",
    "    return(out)"
   ]
  },
  {
   "cell_type": "code",
   "execution_count": 9,
   "metadata": {},
   "outputs": [
    {
     "data": {
      "text/plain": [
       "[22.0, 24.0, 25.0, 19.0, 15.280000000000001]"
      ]
     },
     "execution_count": 9,
     "metadata": {},
     "output_type": "execute_result"
    }
   ],
   "source": [
    "movingav([22,26,27,1,.4])"
   ]
  },
  {
   "cell_type": "code",
   "execution_count": 21,
   "metadata": {},
   "outputs": [],
   "source": [
    "def producttopn(x,n):\n",
    "    x.sort(reverse=True)\n",
    "    prodout=1\n",
    "    for i in x[:n]:\n",
    "        prodout*=i\n",
    "    return(prodout)"
   ]
  },
  {
   "cell_type": "code",
   "execution_count": 23,
   "metadata": {},
   "outputs": [
    {
     "data": {
      "text/plain": [
       "4400"
      ]
     },
     "execution_count": 23,
     "metadata": {},
     "output_type": "execute_result"
    }
   ],
   "source": [
    "producttopn([1,2,4,5,22,5],5)"
   ]
  },
  {
   "cell_type": "code",
   "execution_count": 105,
   "metadata": {},
   "outputs": [
    {
     "name": "stdout",
     "output_type": "stream",
     "text": [
      "2 6\n",
      "3 2\n",
      "5 8\n"
     ]
    }
   ],
   "source": [
    "sumer=0\n",
    "for i,j in x.items():\n"
   ]
  },
  {
   "cell_type": "code",
   "execution_count": 154,
   "metadata": {},
   "outputs": [
    {
     "data": {
      "text/plain": [
       "32.0"
      ]
     },
     "execution_count": 154,
     "metadata": {},
     "output_type": "execute_result"
    }
   ],
   "source": [
    "math.pow(2,5)"
   ]
  },
  {
   "cell_type": "code",
   "execution_count": 188,
   "metadata": {},
   "outputs": [
    {
     "data": {
      "text/plain": [
       "[11, 10, 9, 8, 7, 6, 5, 4, 3, 2, 1]"
      ]
     },
     "execution_count": 188,
     "metadata": {},
     "output_type": "execute_result"
    }
   ],
   "source": [
    "list(range(11,0,-1))"
   ]
  },
  {
   "cell_type": "code",
   "execution_count": 52,
   "metadata": {},
   "outputs": [],
   "source": [
    "import math\n",
    "def binary_to_num(x,base=2):\n",
    "    x=list(str(x))\n",
    "    x=[int(i) for i in x]\n",
    "    #print(len(x))\n",
    "    mvec=list(range(len(x)-1,0,-1))\n",
    "    #print(mvec)\n",
    "    mvec=[math.pow(base,i) for i in mvec]\n",
    "    #print(mvec)\n",
    "    mvec=[a*b for a,b in zip(x,mvec)]\n",
    "    \n",
    "    return(sum(mvec))"
   ]
  },
  {
   "cell_type": "code",
   "execution_count": 53,
   "metadata": {},
   "outputs": [
    {
     "data": {
      "text/plain": [
       "16384.0"
      ]
     },
     "execution_count": 53,
     "metadata": {},
     "output_type": "execute_result"
    }
   ],
   "source": [
    "binary_to_num(100000000000000,2)"
   ]
  },
  {
   "cell_type": "code",
   "execution_count": 54,
   "metadata": {},
   "outputs": [],
   "source": [
    "def num_to_bin(x,base=2):\n",
    "    power=int(math.log(x,base))\n",
    "    dig=[0]*(power+1)\n",
    "    for powe in range(power,-1,-1):\n",
    "        #print(x)\n",
    "\n",
    "        div=math.pow(base,powe)\n",
    "        #print(div)\n",
    "        quo=int(x/div)\n",
    "        dig[power-powe]=quo\n",
    "        #print(quo)\n",
    "        x=x-div*quo\n",
    "\n",
    "        #print(x)\n",
    "        digit=[str(i)for i in dig]\n",
    "        digit=int(''.join(digit))\n",
    "\n",
    "    return(digit)"
   ]
  },
  {
   "cell_type": "code",
   "execution_count": 55,
   "metadata": {},
   "outputs": [],
   "source": [
    "def num_to_bin(x,base=2):\n",
    "    q=x\n",
    "    rs=[]\n",
    "    i=0\n",
    "    while q!=0:\n",
    "        #print(q)\n",
    "        \n",
    "        r=q%base\n",
    "        q=int(q/base)\n",
    "        \n",
    "        rs.append(r)\n",
    "    rs.reverse()\n",
    "    return(rs)"
   ]
  },
  {
   "cell_type": "code",
   "execution_count": 58,
   "metadata": {},
   "outputs": [
    {
     "data": {
      "text/plain": [
       "[1, 1, 2, 2, 1]"
      ]
     },
     "execution_count": 58,
     "metadata": {},
     "output_type": "execute_result"
    }
   ],
   "source": [
    "num_to_bin(133,3)"
   ]
  },
  {
   "cell_type": "code",
   "execution_count": 57,
   "metadata": {},
   "outputs": [
    {
     "data": {
      "text/plain": [
       "21880.0"
      ]
     },
     "execution_count": 57,
     "metadata": {},
     "output_type": "execute_result"
    }
   ],
   "source": [
    "binary_to_num(11111321,base=4)"
   ]
  },
  {
   "cell_type": "code",
   "execution_count": null,
   "metadata": {},
   "outputs": [],
   "source": [
    "1 digit=1\n",
    "2 digit=3\n",
    "3 digit=7\n",
    "4 digit=15\n"
   ]
  },
  {
   "cell_type": "code",
   "execution_count": 117,
   "metadata": {},
   "outputs": [
    {
     "data": {
      "text/plain": [
       "10.0"
      ]
     },
     "execution_count": 117,
     "metadata": {},
     "output_type": "execute_result"
    }
   ],
   "source": [
    "10%math.pow(2,4)"
   ]
  },
  {
   "cell_type": "code",
   "execution_count": 119,
   "metadata": {},
   "outputs": [
    {
     "data": {
      "text/plain": [
       "8.0"
      ]
     },
     "execution_count": 119,
     "metadata": {},
     "output_type": "execute_result"
    }
   ],
   "source": [
    "math.pow(2,3)"
   ]
  },
  {
   "cell_type": "code",
   "execution_count": 122,
   "metadata": {},
   "outputs": [
    {
     "ename": "TypeError",
     "evalue": "'int' object is not iterable",
     "output_type": "error",
     "traceback": [
      "\u001b[1;31m---------------------------------------------------------------------------\u001b[0m",
      "\u001b[1;31mTypeError\u001b[0m                                 Traceback (most recent call last)",
      "\u001b[1;32m<ipython-input-122-563c5f597a18>\u001b[0m in \u001b[0;36m<module>\u001b[1;34m()\u001b[0m\n\u001b[1;32m----> 1\u001b[1;33m \u001b[0mlist\u001b[0m\u001b[1;33m(\u001b[0m\u001b[1;36m44\u001b[0m\u001b[1;33m)\u001b[0m\u001b[1;33m\u001b[0m\u001b[0m\n\u001b[0m",
      "\u001b[1;31mTypeError\u001b[0m: 'int' object is not iterable"
     ]
    }
   ],
   "source": [
    "list(44)"
   ]
  },
  {
   "cell_type": "code",
   "execution_count": 305,
   "metadata": {},
   "outputs": [],
   "source": [
    "def rev_string(stringin,start=0,end=0):\n",
    "    if end==0:\n",
    "        end=len(stringin)-1\n",
    "    #stringin=list(stringin)\n",
    "    \n",
    "    left=0\n",
    "    right=end\n",
    "    while left<right:\n",
    "        stringin[left],stringin[right]=stringin[right],stringin[left]\n",
    "        left+=1\n",
    "        right-=1\n",
    "        \n",
    "    return(stringin)"
   ]
  },
  {
   "cell_type": "code",
   "execution_count": 325,
   "metadata": {},
   "outputs": [
    {
     "data": {
      "text/plain": [
       "['p']"
      ]
     },
     "execution_count": 325,
     "metadata": {},
     "output_type": "execute_result"
    }
   ],
   "source": [
    "rev_string(['p'])"
   ]
  },
  {
   "cell_type": "code",
   "execution_count": 482,
   "metadata": {},
   "outputs": [],
   "source": [
    "def rev_words(message):\n",
    "    message=rev_string(message)\n",
    "    leng=len(message)\n",
    "    wordstart=0\n",
    "    for i in range(leng):\n",
    "        if (message[i]==' ') or (i==leng):\n",
    "            message=rev_string(message,wordstart,i-1)\n",
    "            wordstart=i+1\n",
    "    return(message)"
   ]
  },
  {
   "cell_type": "code",
   "execution_count": 483,
   "metadata": {},
   "outputs": [
    {
     "data": {
      "text/plain": [
       "['e',\n",
       " 'a',\n",
       " 'g',\n",
       " 'l',\n",
       " 'e',\n",
       " ' ',\n",
       " 'l',\n",
       " 'a',\n",
       " 'n',\n",
       " 'd',\n",
       " 'e',\n",
       " 'd',\n",
       " ' ',\n",
       " 's',\n",
       " 'a',\n",
       " 'h',\n",
       " ' ',\n",
       " 'e',\n",
       " 'h',\n",
       " 't']"
      ]
     },
     "execution_count": 483,
     "metadata": {},
     "output_type": "execute_result"
    }
   ],
   "source": [
    "rev_words([ 't', 'h', 'e', ' ', 'e', 'a', 'g', 'l', 'e', ' ','h', 'a', 's', ' ', 'l', 'a', 'n', 'd', 'e', 'd' ])"
   ]
  },
  {
   "cell_type": "code",
   "execution_count": 477,
   "metadata": {},
   "outputs": [],
   "source": [
    "mess='Sometimes (when I nest them (my parentheticals) too much (like this (and this))) they get confusing'\n",
    "left=10"
   ]
  },
  {
   "cell_type": "code",
   "execution_count": 480,
   "metadata": {},
   "outputs": [],
   "source": [
    "def parafind(mess,left=10):\n",
    "    mess=list(mess)\n",
    "    opened=0\n",
    "    #print(mess)\n",
    "    for i in range(left+1,len(mess)):\n",
    "        if mess[i]==')' and opened==0:\n",
    "            return(i)\n",
    "        elif mess[i]==')':\n",
    "            opened-=1\n",
    "        elif mess[i]=='(':\n",
    "            opened+=1\n",
    "        #print(opened)\n",
    "    return(-1)\n",
    "    \n",
    "        "
   ]
  },
  {
   "cell_type": "code",
   "execution_count": 481,
   "metadata": {},
   "outputs": [
    {
     "data": {
      "text/plain": [
       "79"
      ]
     },
     "execution_count": 481,
     "metadata": {},
     "output_type": "execute_result"
    }
   ],
   "source": [
    "parafind(mess)"
   ]
  },
  {
   "cell_type": "code",
   "execution_count": 346,
   "metadata": {},
   "outputs": [],
   "source": [
    "mess= \"{ [ ( ] ) }\" "
   ]
  },
  {
   "cell_type": "code",
   "execution_count": 474,
   "metadata": {},
   "outputs": [
    {
     "name": "stdout",
     "output_type": "stream",
     "text": [
      "valid\n"
     ]
    }
   ],
   "source": [
    "paraopen=0\n",
    "bracketopen=0\n",
    "bracesopen=0\n",
    "for i in mess:\n",
    "    if i=='(':\n",
    "        paraopen+=1\n",
    "    elif i==')':\n",
    "        paraopen-=1\n",
    "    elif i=='[':\n",
    "        bracketopen=+1\n",
    "    elif i==']':\n",
    "        bracketopen-=1\n",
    "    elif i=='{':\n",
    "        bracesopen+=1\n",
    "    elif i=='}':\n",
    "        bracesopen-=1\n",
    "    \n",
    "    \n",
    "if(paraopen==0) and (bracesopen==0) and (bracketopen==0):\n",
    "    print('valid')\n",
    "    "
   ]
  },
  {
   "cell_type": "code",
   "execution_count": 349,
   "metadata": {},
   "outputs": [],
   "source": [
    "def max_duffle_cake(cake_tuples,capacity):\n",
    "   "
   ]
  },
  {
   "cell_type": "code",
   "execution_count": 25,
   "metadata": {},
   "outputs": [],
   "source": [
    "cake_tuples = [(7, 160), (3, 90), (2, 15)]\n",
    "capacity    = 20"
   ]
  },
  {
   "cell_type": "code",
   "execution_count": 26,
   "metadata": {},
   "outputs": [
    {
     "data": {
      "text/plain": [
       "[[0, 0, 0], [0, 0, 0], [0, 0, 0]]"
      ]
     },
     "execution_count": 26,
     "metadata": {},
     "output_type": "execute_result"
    }
   ],
   "source": [
    "[[0,0,0]]*3"
   ]
  },
  {
   "cell_type": "code",
   "execution_count": 28,
   "metadata": {},
   "outputs": [
    {
     "ename": "NameError",
     "evalue": "name 'curreturn' is not defined",
     "output_type": "error",
     "traceback": [
      "\u001b[1;31m---------------------------------------------------------------------------\u001b[0m",
      "\u001b[1;31mNameError\u001b[0m                                 Traceback (most recent call last)",
      "\u001b[1;32m<ipython-input-28-b64ee9c6df78>\u001b[0m in \u001b[0;36m<module>\u001b[1;34m()\u001b[0m\n\u001b[0;32m     22\u001b[0m \u001b[1;33m\u001b[0m\u001b[0m\n\u001b[0;32m     23\u001b[0m     \u001b[0mmax_values_at_capacities\u001b[0m\u001b[1;33m[\u001b[0m\u001b[0mcap\u001b[0m\u001b[1;33m]\u001b[0m \u001b[1;33m=\u001b[0m \u001b[0mcurrent_max_value\u001b[0m\u001b[1;33m\u001b[0m\u001b[0m\n\u001b[1;32m---> 24\u001b[1;33m     \u001b[0mreturns\u001b[0m\u001b[1;33m[\u001b[0m\u001b[0mi\u001b[0m\u001b[1;33m]\u001b[0m\u001b[1;33m=\u001b[0m\u001b[0mcurreturn\u001b[0m\u001b[1;33m\u001b[0m\u001b[0m\n\u001b[0m",
      "\u001b[1;31mNameError\u001b[0m: name 'curreturn' is not defined"
     ]
    }
   ],
   "source": [
    "#cake_tuples=sorted(cake_tuples,key=lambda x:x[1],reverse=True)\n",
    "\n",
    "max_values_at_capacities = [0] * (capacity+1)\n",
    "cakes=len(cake_tuples)\n",
    "\n",
    "#print(returns)\n",
    "for cap in range(capacity+1):\n",
    "    current_max_value=0\n",
    "    \n",
    "    \n",
    "    #print(curreturn)\n",
    "    for i in range(cakes):\n",
    "        cake_weight,cake_value=cake_tuples[i]\n",
    "        if cake_weight<=cap:\n",
    "            max_value_using_cake=cake_value+max_values_at_capacities[cap-cake_weight]\n",
    "            if(max_value_using_cake>current_max_value):\n",
    "                curreturn=[[0]*cakes]\n",
    "                current_max_value=max_value_using_cake\n",
    "                curreturn=copy(returns[cap-cake_weight])\n",
    "                #print(curreturn)\n",
    "                curreturn[i]+=1\n",
    "            \n",
    "    max_values_at_capacities[cap] = current_max_value\n",
    "    returns[i]=curreturn"
   ]
  },
  {
   "cell_type": "code",
   "execution_count": 431,
   "metadata": {},
   "outputs": [
    {
     "data": {
      "text/plain": [
       "[[19, 16, 1],\n",
       " [19, 16, 1],\n",
       " [19, 16, 1],\n",
       " [19, 16, 1],\n",
       " [19, 16, 1],\n",
       " [19, 16, 1],\n",
       " [19, 16, 1],\n",
       " [19, 16, 1],\n",
       " [19, 16, 1],\n",
       " [19, 16, 1],\n",
       " [19, 16, 1],\n",
       " [19, 16, 1],\n",
       " [19, 16, 1],\n",
       " [19, 16, 1],\n",
       " [19, 16, 1],\n",
       " [19, 16, 1],\n",
       " [19, 16, 1],\n",
       " [19, 16, 1],\n",
       " [19, 16, 1],\n",
       " [19, 16, 1],\n",
       " [19, 16, 1]]"
      ]
     },
     "execution_count": 431,
     "metadata": {},
     "output_type": "execute_result"
    }
   ],
   "source": [
    "returns"
   ]
  },
  {
   "cell_type": "code",
   "execution_count": 439,
   "metadata": {},
   "outputs": [],
   "source": [
    "def max_duffel_bag_value(cake_tuples, weight_capacity):\n",
    "    # We make a list to hold the maximum possible value at every\n",
    "    # duffel bag weight capacity from 0 to weight_capacity\n",
    "    # starting each index with value 0\n",
    "    max_values_at_capacities = [0] * (weight_capacity + 1)\n",
    "    \n",
    "    for current_capacity in range(weight_capacity + 1):\n",
    "        # Set a variable to hold the max monetary value so far\n",
    "        # for current_capacity\n",
    "        current_max_value = 0\n",
    "\n",
    "        for cake_weight, cake_value in cake_tuples:\n",
    "            # If a cake weighs 0 and has a positive value the value of\n",
    "            # our duffel bag is infinite!\n",
    "            if cake_weight == 0 and cake_value != 0:\n",
    "                return float('inf')\n",
    "\n",
    "            # If the current cake weighs as much or less than the\n",
    "            # current weight capacity it's possible taking the cake\n",
    "            # would get a better value\n",
    "            if cake_weight <= current_capacity:\n",
    "\n",
    "                # So we check: should we use the cake or not?\n",
    "                # If we use the cake, the most kilograms we can include in\n",
    "                # addition to the cake we're adding is the current capacity\n",
    "                # minus the cake's weight. We find the max value at that\n",
    "                # integer capacity in our list max_values_at_capacities\n",
    "                max_value_using_cake = (\n",
    "                    cake_value\n",
    "                    + max_values_at_capacities[current_capacity - cake_weight]\n",
    "                )\n",
    "\n",
    "                # Now we see if it's worth taking the cake. how does the\n",
    "                # value with the cake compare to the current_max_value?\n",
    "                current_max_value = max(max_value_using_cake,\n",
    "                                        current_max_value)\n",
    "\n",
    "        # Add each capacity's max value to our list so we can use them\n",
    "        # when calculating all the remaining capacities\n",
    "        max_values_at_capacities[current_capacity] = current_max_value\n",
    "\n",
    "    return max_values_at_capacities[weight_capacity]"
   ]
  },
  {
   "cell_type": "code",
   "execution_count": 440,
   "metadata": {},
   "outputs": [
    {
     "data": {
      "text/plain": [
       "555"
      ]
     },
     "execution_count": 440,
     "metadata": {},
     "output_type": "execute_result"
    }
   ],
   "source": [
    "max_duffel_bag_value(cake_tuples,capacity)"
   ]
  },
  {
   "cell_type": "code",
   "execution_count": null,
   "metadata": {},
   "outputs": [],
   "source": []
  },
  {
   "cell_type": "code",
   "execution_count": 416,
   "metadata": {},
   "outputs": [
    {
     "data": {
      "text/plain": [
       "160"
      ]
     },
     "execution_count": 416,
     "metadata": {},
     "output_type": "execute_result"
    }
   ],
   "source": [
    "max_value_at_capacity"
   ]
  },
  {
   "cell_type": "code",
   "execution_count": 412,
   "metadata": {},
   "outputs": [
    {
     "data": {
      "text/plain": [
       "[1, 1, 1, 2, 2, 2]"
      ]
     },
     "execution_count": 412,
     "metadata": {},
     "output_type": "execute_result"
    }
   ],
   "source": [
    "[1,1,1]+[2,2,2]"
   ]
  },
  {
   "cell_type": "code",
   "execution_count": 444,
   "metadata": {},
   "outputs": [],
   "source": [
    "cake_tuples = [(7, 160), (3, 90), (2, 15)]\n",
    "weight_capacity    = 20"
   ]
  },
  {
   "cell_type": "code",
   "execution_count": 472,
   "metadata": {},
   "outputs": [
    {
     "name": "stdout",
     "output_type": "stream",
     "text": [
      "[0, 0, 1]\n",
      "[0, 1, 0]\n",
      "[0, 1, 0]\n",
      "[0, 1, 0]\n",
      "[0, 1, 0]\n",
      "[1, 0, 0]\n",
      "[0, 1, 0]\n",
      "[1, 0, 0]\n",
      "[0, 1, 0]\n",
      "[1, 0, 0]\n",
      "[0, 1, 0]\n",
      "[1, 0, 0]\n",
      "[0, 1, 0]\n",
      "[1, 0, 0]\n",
      "[0, 1, 0]\n",
      "[1, 0, 0]\n",
      "[0, 1, 0]\n",
      "[1, 0, 0]\n",
      "[0, 1, 0]\n",
      "[1, 1, 0]\n",
      "[0, 1, 0]\n",
      "[1, 1, 0]\n",
      "[0, 1, 0]\n",
      "[1, 1, 0]\n",
      "[0, 1, 0]\n",
      "[1, 1, 0]\n",
      "[0, 1, 0]\n",
      "[1, 1, 0]\n",
      "[0, 2, 0]\n",
      "[1, 1, 0]\n",
      "[0, 2, 0]\n",
      "[1, 1, 0]\n",
      "[0, 2, 0]\n"
     ]
    }
   ],
   "source": [
    "max_values_at_capacities = [0] * (weight_capacity + 1)\n",
    "returns=[[0]*cakes]*(capacity+1)\n",
    "cakes=len(cake_tuples)\n",
    "\n",
    "for current_capacity in range(weight_capacity + 1):\n",
    "    # Set a variable to hold the max monetary value so far\n",
    "    # for current_capacity\n",
    "    current_max_value = 0\n",
    "\n",
    "    for i in range(cakes):\n",
    "        cake_weight, cake_value=cake_tuples[i]\n",
    "        # If a cake weighs 0 and has a positive value the value of\n",
    "        # our duffel bag is infinite!\n",
    "        if cake_weight == 0 and cake_value != 0:\n",
    "            print('inf')\n",
    "\n",
    "            # If the current cake weighs as much or less than the\n",
    "            # current weight capacity it's possible taking the cake\n",
    "            # would get a better value\n",
    "        if cake_weight <= current_capacity:\n",
    "\n",
    "            # So we check: should we use the cake or not?\n",
    "            # If we use the cake, the most kilograms we can include in\n",
    "            # addition to the cake we're adding is the current capacity\n",
    "            # minus the cake's weight. We find the max value at that\n",
    "            # integer capacity in our list max_values_at_capacities\n",
    "            max_value_using_cake = (\n",
    "                cake_value\n",
    "                + max_values_at_capacities[current_capacity - cake_weight]\n",
    "            )\n",
    "\n",
    "            # Now we see if it's worth taking the cake. how does the\n",
    "            # value with the cake compare to the current_max_value?\n",
    "            if max_value_using_cake>current_max_value:\n",
    "                current_max_value=max_value_using_cake\n",
    "                curreturn=returns[cap-cake_weight].copy()\n",
    "                curreturn[i]+=1\n",
    "                print(curreturn)\n",
    "            #current_max_value = max(max_value_using_cake,\n",
    "            #                        current_max_value)\n",
    "\n",
    "    # Add each capacity's max value to our list so we can use them\n",
    "    # when calculating all the remaining capacities\n",
    "    max_values_at_capacities[current_capacity] = current_max_value\n",
    "    returns[current_capacity]=curreturn\n",
    "    #return max_values_at_capacities[weight_capacity]"
   ]
  },
  {
   "cell_type": "code",
   "execution_count": 473,
   "metadata": {},
   "outputs": [
    {
     "data": {
      "text/plain": [
       "[0,\n",
       " 0,\n",
       " 15,\n",
       " 90,\n",
       " 90,\n",
       " 105,\n",
       " 180,\n",
       " 180,\n",
       " 195,\n",
       " 270,\n",
       " 270,\n",
       " 285,\n",
       " 360,\n",
       " 360,\n",
       " 375,\n",
       " 450,\n",
       " 450,\n",
       " 465,\n",
       " 540,\n",
       " 540,\n",
       " 555]"
      ]
     },
     "execution_count": 473,
     "metadata": {},
     "output_type": "execute_result"
    }
   ],
   "source": [
    "max_values_at_capacities"
   ]
  },
  {
   "cell_type": "code",
   "execution_count": null,
   "metadata": {},
   "outputs": [],
   "source": [
    "flight_match(flight_length,movie_lengths):"
   ]
  },
  {
   "cell_type": "code",
   "execution_count": 564,
   "metadata": {},
   "outputs": [],
   "source": [
    "flight_length=150\n",
    "movie_lengths=[80,80,10,120,90,20,75,75]"
   ]
  },
  {
   "cell_type": "code",
   "execution_count": 568,
   "metadata": {},
   "outputs": [],
   "source": [
    "def flight_match(flight_length,movie_lengths):\n",
    "    seen=set()\n",
    "    for ml in movie_lengths:\n",
    "        seen.add(ml)\n",
    "        diff=flight_length-ml\n",
    "        if (diff in movie_lengths) and diff not in seen:\n",
    "            return(True)\n",
    "        elif diff==flight_length/2:\n",
    "            bvec=sum([i==flight_length/2 for i in movie_lengths])\n",
    "            if bvec>=2:\n",
    "                return(True)\n",
    "    return(False)"
   ]
  },
  {
   "cell_type": "code",
   "execution_count": 569,
   "metadata": {},
   "outputs": [
    {
     "data": {
      "text/plain": [
       "True"
      ]
     },
     "execution_count": 569,
     "metadata": {},
     "output_type": "execute_result"
    }
   ],
   "source": [
    "flight_match(flight_length,movie_lengths)"
   ]
  },
  {
   "cell_type": "code",
   "execution_count": 567,
   "metadata": {},
   "outputs": [
    {
     "data": {
      "text/plain": [
       "False"
      ]
     },
     "execution_count": 567,
     "metadata": {},
     "output_type": "execute_result"
    }
   ],
   "source": [
    "movie_lengths==75"
   ]
  },
  {
   "cell_type": "code",
   "execution_count": 30,
   "metadata": {},
   "outputs": [],
   "source": [
    "stringin='  this is a string to check for wor d     count    s'"
   ]
  },
  {
   "cell_type": "code",
   "execution_count": 31,
   "metadata": {
    "scrolled": false
   },
   "outputs": [],
   "source": [
    "count=0\n",
    "stringin=list(stringin)\n",
    "leng=len(stringin)\n",
    "last_char=-2\n",
    "\n",
    "#print(stringin)\n",
    "\n",
    "for i in range(0,leng):\n",
    "    #print(stringin[i])\n",
    "    if stringin[i]!=' ':\n",
    "        #print('last char:',last_char)\n",
    "        #print('i:',i)\n",
    "        if i-last_char>1:\n",
    "            #print('match')\n",
    "            count+=1\n",
    "        \n",
    "        last_char=i\n",
    "            \n",
    "        \n",
    "        \n",
    "            \n",
    "    "
   ]
  },
  {
   "cell_type": "code",
   "execution_count": 32,
   "metadata": {},
   "outputs": [
    {
     "data": {
      "text/plain": [
       "11"
      ]
     },
     "execution_count": 32,
     "metadata": {},
     "output_type": "execute_result"
    }
   ],
   "source": [
    "count"
   ]
  },
  {
   "cell_type": "code",
   "execution_count": 40,
   "metadata": {},
   "outputs": [
    {
     "data": {
      "text/plain": [
       "{'a': 1,\n",
       " 'c': 3,\n",
       " 'd': 1,\n",
       " 'e': 1,\n",
       " 'f': 1,\n",
       " 'g': 1,\n",
       " 'h': 2,\n",
       " 'i': 3,\n",
       " 'k': 1,\n",
       " 'n': 2,\n",
       " 'o': 4,\n",
       " 'r': 3,\n",
       " 's': 4,\n",
       " 't': 4,\n",
       " 'u': 1,\n",
       " 'w': 1}"
      ]
     },
     "execution_count": 40,
     "metadata": {},
     "output_type": "execute_result"
    }
   ],
   "source": [
    "diction=dict()\n",
    "\n",
    "for i in stringin:\n",
    "    if i!=' ':\n",
    "        if i in diction.keys():\n",
    "            diction[i]+=1\n",
    "        else:\n",
    "            diction[i]=1\n",
    "        \n",
    "diction=dict(sorted(diction.items(),key=lambda x:x[1],reverse=True))\n",
    "diction"
   ]
  },
  {
   "cell_type": "code",
   "execution_count": 41,
   "metadata": {},
   "outputs": [
    {
     "data": {
      "text/plain": [
       "33"
      ]
     },
     "execution_count": 41,
     "metadata": {},
     "output_type": "execute_result"
    }
   ],
   "source": [
    "sum(diction.values())"
   ]
  },
  {
   "cell_type": "code",
   "execution_count": 104,
   "metadata": {},
   "outputs": [],
   "source": [
    "class BinaryTreeNode(object):\n",
    "\n",
    "    def __init__(self, value):\n",
    "        self.value = value\n",
    "        self.left  = None\n",
    "        self.right = None\n",
    "\n",
    "    def insert_left(self, value):\n",
    "        self.left = BinaryTreeNode(value)\n",
    "        return self.left\n",
    "\n",
    "    def insert_right(self, value):\n",
    "        self.right = BinaryTreeNode(value)\n",
    "        return self.right"
   ]
  },
  {
   "cell_type": "code",
   "execution_count": 105,
   "metadata": {},
   "outputs": [],
   "source": [
    "x=BinaryTreeNode(60)"
   ]
  },
  {
   "cell_type": "code",
   "execution_count": 107,
   "metadata": {},
   "outputs": [],
   "source": [
    "x=x.insert_left(20)\n",
    "x=x.insert_right(50)\n",
    "x.left.insert_left(20)"
   ]
  },
  {
   "cell_type": "code",
   "execution_count": 125,
   "metadata": {},
   "outputs": [
    {
     "name": "stdout",
     "output_type": "stream",
     "text": [
      "12\n",
      "/\n",
      "6\n",
      "/\n",
      "3\n",
      "/\n",
      "-1\n",
      "\\\n",
      "14\n",
      "/\n",
      "13\n",
      "\\\n",
      "15\n"
     ]
    }
   ],
   "source": [
    "class Node:\n",
    "\n",
    "    def __init__(self, data):\n",
    "\n",
    "        self.left = None\n",
    "        self.right = None\n",
    "        self.data = data\n",
    "\n",
    "    def insert(self, data):\n",
    "# Compare the new value with the parent node\n",
    "        if self.data:\n",
    "            if data < self.data:\n",
    "                if self.left is None:\n",
    "                    self.left = Node(data)\n",
    "                else:\n",
    "                    self.left.insert(data)\n",
    "            elif data > self.data:\n",
    "                if self.right is None:\n",
    "                    self.right = Node(data)\n",
    "                else:\n",
    "                    self.right.insert(data)\n",
    "        else:\n",
    "            self.data = data\n",
    "\n",
    "# Print the tree\n",
    "    def PrintTree(self):\n",
    "        \n",
    "        print( self.data)\n",
    "        \n",
    "        if self.left:\n",
    "            print('/')\n",
    "            self.left.PrintTree()\n",
    "            \n",
    "        \n",
    "        \n",
    "        if self.right:\n",
    "            print('\\\\')\n",
    "            self.right.PrintTree()\n",
    "            \n",
    "    def PreOrderTraversal(self,root):\n",
    "        res=[]\n",
    "        if root:\n",
    "            res.append(root.data)\n",
    "            res=res+self.PreOrderTraversal(root.left)\n",
    "            res=res+self.PreOrderTraversal(root.right)\n",
    "        return(res)\n",
    "\n",
    "# Use the insert method to add nodes\n",
    "root = Node(12)\n",
    "root.insert(6)\n",
    "root.insert(14)\n",
    "root.insert(3)\n",
    "root.insert(15)\n",
    "root.insert(-1)\n",
    "root.insert(13)\n",
    "\n",
    "root.PrintTree()"
   ]
  },
  {
   "cell_type": "code",
   "execution_count": null,
   "metadata": {},
   "outputs": [],
   "source": [
    "\n",
    "        "
   ]
  },
  {
   "cell_type": "code",
   "execution_count": 126,
   "metadata": {},
   "outputs": [
    {
     "data": {
      "text/plain": [
       "[12, 6, 3, -1, 14, 13, 15]"
      ]
     },
     "execution_count": 126,
     "metadata": {},
     "output_type": "execute_result"
    }
   ],
   "source": [
    "root.PreOrderTraversal(root)"
   ]
  },
  {
   "cell_type": "code",
   "execution_count": 59,
   "metadata": {},
   "outputs": [],
   "source": [
    "class BinaryTreeNode(object):\n",
    "\n",
    "    def __init__(self, value):\n",
    "        self.value = value\n",
    "        self.left  = None\n",
    "        self.right = None\n",
    "\n",
    "    def insert_left(self, value):\n",
    "        self.left = BinaryTreeNode(value)\n",
    "        return self.left\n",
    "\n",
    "    def insert_right(self, value):\n",
    "        self.right = BinaryTreeNode(value)\n",
    "        return self.right"
   ]
  },
  {
   "cell_type": "code",
   "execution_count": 60,
   "metadata": {},
   "outputs": [],
   "source": [
    "root=BinaryTreeNode(50)"
   ]
  },
  {
   "cell_type": "code",
   "execution_count": 61,
   "metadata": {},
   "outputs": [
    {
     "data": {
      "text/plain": [
       "<__main__.BinaryTreeNode at 0x17d496afba8>"
      ]
     },
     "execution_count": 61,
     "metadata": {},
     "output_type": "execute_result"
    }
   ],
   "source": [
    "#level 1\n",
    "root.insert_left(25)\n",
    "root.insert_right(75)\n",
    "\n",
    "\n",
    "#level 2\n",
    "root.left.insert_left(12.5)\n",
    "root.left.insert_right(37.5)\n",
    "\n",
    "root.right.insert_left(62.5)\n",
    "root.right.insert_right(87.5)\n",
    "\n",
    "\n",
    "#level 3\n",
    "root.left.left.insert_left(6.25)\n",
    "root.left.left.insert_right(18.75)\n",
    "\n",
    "root.left.right.insert_left(31.25)\n",
    "root.left.right.insert_right(43.5)\n",
    "\n",
    "root.right.left.insert_left(56.25)\n",
    "root.right.left.insert_right(68.5)\n",
    "\n",
    "root.right.right.insert_left(81.25)\n",
    "root.right.right.insert_right(93.75)"
   ]
  },
  {
   "cell_type": "code",
   "execution_count": 62,
   "metadata": {},
   "outputs": [
    {
     "data": {
      "text/plain": [
       "68.5"
      ]
     },
     "execution_count": 62,
     "metadata": {},
     "output_type": "execute_result"
    }
   ],
   "source": [
    "root.right.left.right.value"
   ]
  },
  {
   "cell_type": "code",
   "execution_count": 64,
   "metadata": {},
   "outputs": [],
   "source": [
    "search=56.25\n",
    "\n",
    "#nodes=[]\n",
    "stack=[root]\n",
    "levels=[0]\n"
   ]
  },
  {
   "cell_type": "code",
   "execution_count": 65,
   "metadata": {},
   "outputs": [
    {
     "name": "stdout",
     "output_type": "stream",
     "text": [
      "1\n",
      "50\n",
      "2\n",
      "25\n",
      "3\n",
      "75\n",
      "4\n",
      "12.5\n",
      "5\n",
      "37.5\n",
      "6\n",
      "62.5\n",
      "7\n",
      "87.5\n",
      "8\n",
      "6.25\n",
      "7\n",
      "18.75\n",
      "6\n",
      "31.25\n",
      "5\n",
      "43.5\n",
      "4\n",
      "56.25\n",
      "found!\n"
     ]
    }
   ],
   "source": [
    "while stack:\n",
    "    cur_node=stack[0]\n",
    "    cur_level=levels[0]\n",
    "    print(len(stack))\n",
    "    print(cur_node.value)\n",
    "    if(cur_node.value)==search:\n",
    "        print('found!')\n",
    "        break\n",
    "    else:\n",
    "        stack.pop(0)\n",
    "        if cur_node.left is not None:\n",
    "            stack.append(cur_node.left)\n",
    "            levels.append(cur_level+1)\n",
    "        if cur_node.right is not None:\n",
    "            stack.append(cur_node.right)\n",
    "            levels.append(cur_level+1)\n",
    "            "
   ]
  },
  {
   "cell_type": "code",
   "execution_count": 225,
   "metadata": {},
   "outputs": [],
   "source": [
    "search=56.25\n",
    "\n",
    "#nodes=[]\n",
    "stack=[root]"
   ]
  },
  {
   "cell_type": "code",
   "execution_count": 234,
   "metadata": {},
   "outputs": [],
   "source": [
    "def bfs_dfs_illust(root,search=37.5,bd='depth'):\n",
    "\n",
    "    stack=[root]\n",
    "\n",
    "    if bd=='depth':\n",
    "        while stack:\n",
    "            cur_node=stack[0]\n",
    "            print(len(stack))\n",
    "            print(cur_node.value)\n",
    "            if(cur_node.value)==search:\n",
    "                print('found!')\n",
    "                break\n",
    "            else:\n",
    "                stack.pop(0)\n",
    "                if cur_node.left is not None:\n",
    "                    stack.insert(0,cur_node.left)\n",
    "                if cur_node.right is not None:\n",
    "                    stack.insert(0,cur_node.right)\n",
    "        if(len(stack)==0):\n",
    "            print('not found')\n",
    "        \n",
    "    elif bd=='breadth':\n",
    "        while stack:\n",
    "            cur_node=stack[0]\n",
    "            print(len(stack))\n",
    "            print(cur_node.value)\n",
    "            if(cur_node.value)==search:\n",
    "                print('found!')\n",
    "                break\n",
    "            else:\n",
    "                stack.pop(0)\n",
    "                if cur_node.left is not None:\n",
    "                    stack.append(cur_node.left)\n",
    "                if cur_node.right is not None:\n",
    "                    stack.append(cur_node.right)\n",
    "        if(len(stack)==0):\n",
    "            print('not found')"
   ]
  },
  {
   "cell_type": "code",
   "execution_count": 237,
   "metadata": {},
   "outputs": [
    {
     "name": "stdout",
     "output_type": "stream",
     "text": [
      "1\n",
      "50\n",
      "2\n",
      "25\n",
      "3\n",
      "75\n",
      "4\n",
      "12.5\n",
      "5\n",
      "37.5\n",
      "6\n",
      "62.5\n",
      "7\n",
      "87.5\n",
      "8\n",
      "6.25\n",
      "7\n",
      "18.75\n",
      "6\n",
      "31.25\n",
      "5\n",
      "43.5\n",
      "4\n",
      "56.25\n",
      "3\n",
      "68.5\n",
      "2\n",
      "81.25\n",
      "1\n",
      "93.75\n",
      "not found\n"
     ]
    }
   ],
   "source": [
    "bfs_dfs_illust(root,5,'breadth')"
   ]
  },
  {
   "cell_type": "code",
   "execution_count": 5,
   "metadata": {},
   "outputs": [],
   "source": [
    "stringin='cats'"
   ]
  },
  {
   "cell_type": "code",
   "execution_count": 6,
   "metadata": {},
   "outputs": [],
   "source": [
    "stringin=list(stringin)\n",
    "leng=len(stringin)\n",
    "\n",
    "perms=[]\n",
    "for i in stringin:\n",
    "    perms.append(i)"
   ]
  },
  {
   "cell_type": "code",
   "execution_count": 7,
   "metadata": {},
   "outputs": [
    {
     "data": {
      "text/plain": [
       "['a', 'b', 'c']"
      ]
     },
     "execution_count": 7,
     "metadata": {},
     "output_type": "execute_result"
    }
   ],
   "source": [
    "perms"
   ]
  },
  {
   "cell_type": "code",
   "execution_count": 8,
   "metadata": {},
   "outputs": [],
   "source": [
    "import numpy as np"
   ]
  },
  {
   "cell_type": "code",
   "execution_count": 13,
   "metadata": {},
   "outputs": [],
   "source": [
    "def rand7():\n",
    "    return(np.random.randint(1,7))"
   ]
  },
  {
   "cell_type": "code",
   "execution_count": 18,
   "metadata": {},
   "outputs": [],
   "source": [
    "def rand5():\n",
    "    x=rand7()\n",
    "    while x>5:\n",
    "        x=rand7()\n",
    "    return(x)"
   ]
  },
  {
   "cell_type": "code",
   "execution_count": 19,
   "metadata": {},
   "outputs": [
    {
     "data": {
      "text/plain": [
       "5"
      ]
     },
     "execution_count": 19,
     "metadata": {},
     "output_type": "execute_result"
    }
   ],
   "source": [
    "rand5()"
   ]
  },
  {
   "cell_type": "code",
   "execution_count": 23,
   "metadata": {},
   "outputs": [
    {
     "data": {
      "text/plain": [
       "1"
      ]
     },
     "execution_count": 23,
     "metadata": {},
     "output_type": "execute_result"
    }
   ],
   "source": [
    "(7*rand5()%7)+1"
   ]
  },
  {
   "cell_type": "code",
   "execution_count": 24,
   "metadata": {},
   "outputs": [],
   "source": [
    "def rand7():\n",
    "    while True:\n",
    "        # Do our die rolls\n",
    "        roll1 = rand5()\n",
    "        roll2 = rand5()\n",
    "        outcome_number = (roll1-1) * 5 + (roll2-1) + 1\n",
    "\n",
    "        # If we hit an extraneous\n",
    "        # outcome we just re-roll\n",
    "        if outcome_number > 21:\n",
    "            continue\n",
    "\n",
    "        # Our outcome was fine. return it!\n",
    "        return outcome_number % 7 + 1"
   ]
  },
  {
   "cell_type": "code",
   "execution_count": null,
   "metadata": {},
   "outputs": [],
   "source": [
    "def randchange(fromnum,tonum):\n",
    "    if(fromnum>tonum):\n",
    "        print(fromnum+'>'+tonum)\n",
    "        x=np.random.randint(1,fromnum)\n",
    "        while x>tonum:\n",
    "            x=x=np.random.randint(1,fromnum)\n",
    "    elif(fromnum<tonum):\n",
    "        numroll=np.log(tonum)/np.log(fromnum)\n",
    "        x=None\n",
    "        while x<=math.pow(to_num*numroll):\n",
    "        rolls=[]\n",
    "        for i in range(numroll):\n",
    "        "
   ]
  },
  {
   "cell_type": "code",
   "execution_count": 2,
   "metadata": {},
   "outputs": [],
   "source": [
    "def axis_overlap(x1,w1,x2,w2):\n",
    "    max1=max(x1,x2)\n",
    "    minend=min(x1+w1,x2+w2)\n",
    "    if (max1<minend):\n",
    "        return(max1,minend-max1)\n",
    "    else:\n",
    "        return(None)"
   ]
  },
  {
   "cell_type": "code",
   "execution_count": 3,
   "metadata": {},
   "outputs": [],
   "source": [
    "def lovetri(rect1,rect2):\n",
    "    xlap=axis_overlap(rect1['left_x'],rect1['width'],\n",
    "                     rect2['left_x'],rect2['width'])\n",
    "    ylap=axis_overlap(rect1['bottom_y'],rect1['height'],\n",
    "                     rect2['bottom_y'],rect2['height'])\n",
    "    if xlap==None or ylap==None:\n",
    "        return({'left_x':None,\n",
    "                'bottom_y':None,\n",
    "                'width':None,\n",
    "                'height':None\n",
    "               })\n",
    "    else:\n",
    "        return({'left_x':xlap[0],\n",
    "                'bottom_y':ylap[0],\n",
    "                'width':xlap[0],\n",
    "                'height':xlap[1]\n",
    "               })\n",
    "        "
   ]
  },
  {
   "cell_type": "code",
   "execution_count": null,
   "metadata": {},
   "outputs": [],
   "source": []
  }
 ],
 "metadata": {
  "kernelspec": {
   "display_name": "Python 3",
   "language": "python",
   "name": "python3"
  },
  "language_info": {
   "codemirror_mode": {
    "name": "ipython",
    "version": 3
   },
   "file_extension": ".py",
   "mimetype": "text/x-python",
   "name": "python",
   "nbconvert_exporter": "python",
   "pygments_lexer": "ipython3",
   "version": "3.6.4"
  }
 },
 "nbformat": 4,
 "nbformat_minor": 2
}
