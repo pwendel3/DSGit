{
 "cells": [
  {
   "cell_type": "code",
   "execution_count": 1,
   "metadata": {},
   "outputs": [
    {
     "name": "stderr",
     "output_type": "stream",
     "text": [
      "C:\\Users\\pwend\\AppData\\Local\\Continuum\\anaconda3\\lib\\site-packages\\h5py\\__init__.py:36: FutureWarning: Conversion of the second argument of issubdtype from `float` to `np.floating` is deprecated. In future, it will be treated as `np.float64 == np.dtype(float).type`.\n",
      "  from ._conv import register_converters as _register_converters\n"
     ]
    }
   ],
   "source": [
    "import tensorflow as tf\n",
    "import numpy as np"
   ]
  },
  {
   "cell_type": "code",
   "execution_count": 4,
   "metadata": {},
   "outputs": [],
   "source": [
    "bandits=[0.2,0,-0.2,-5]\n",
    "num_bandits=len(bandits)\n",
    "def pullBandit(bandit):\n",
    "    result=np.random.randn(1)\n",
    "    if result>bandit:\n",
    "        return 1\n",
    "    else:\n",
    "        return -1"
   ]
  },
  {
   "cell_type": "code",
   "execution_count": 6,
   "metadata": {},
   "outputs": [],
   "source": [
    "tf.reset_default_graph()\n",
    "weights=tf.Variable(tf.ones([num_bandits]))\n",
    "chosen_action=tf.argmax(weights,0)\n",
    "reward_holder=tf.placeholder(shape=[1],dtype=tf.float32)\n",
    "action_holder=tf.placeholder(shape=[1],dtype=tf.int32)\n",
    "responsible_weight=tf.slice(weights,action_holder,[1])\n",
    "loss=-(tf.log(responsible_weight)*reward_holder)\n",
    "optimizer=tf.train.GradientDescentOptimizer(learning_rate=0.001)\n",
    "update=optimizer.minimize(loss)"
   ]
  },
  {
   "cell_type": "code",
   "execution_count": 10,
   "metadata": {},
   "outputs": [
    {
     "name": "stdout",
     "output_type": "stream",
     "text": [
      "Running reward for the 4 bandits: [-1.  0.  0.  0.]\n",
      "Running reward for the 4 bandits: [-1. -2.  1. 25.]\n",
      "Running reward for the 4 bandits: [-8.  0.  2. 55.]\n",
      "Running reward for the 4 bandits: [-7.  0.  0. 84.]\n",
      "Running reward for the 4 bandits: [ -8.  -2.   3. 118.]\n",
      "Running reward for the 4 bandits: [ -7.  -5.   1. 144.]\n",
      "Running reward for the 4 bandits: [-10.  -1.   2. 172.]\n",
      "Running reward for the 4 bandits: [-14.  -7.   2. 202.]\n",
      "Running reward for the 4 bandits: [-15.  -3.   5. 234.]\n",
      "Running reward for the 4 bandits: [-14.  -3.   9. 265.]\n",
      "Running reward for the 4 bandits: [-11.  -2.  11. 297.]\n",
      "Running reward for the 4 bandits: [-15.  -2.  12. 334.]\n",
      "Running reward for the 4 bandits: [-17.   2.  10. 366.]\n",
      "Running reward for the 4 bandits: [-16.   3.  10. 394.]\n",
      "Running reward for the 4 bandits: [-18.   4.  10. 421.]\n",
      "Running reward for the 4 bandits: [-15.   6.   4. 450.]\n",
      "Running reward for the 4 bandits: [-10.   5.   2. 474.]\n",
      "Running reward for the 4 bandits: [-10.   5.   5. 501.]\n",
      "Running reward for the 4 bandits: [ -8.   4.   7. 532.]\n",
      "Running reward for the 4 bandits: [ -7.   6.   5. 557.]\n",
      "The agent thinks bandit 4 is the most promising....\n",
      "...and it was right!\n"
     ]
    }
   ],
   "source": [
    "total_episodes=1000\n",
    "total_rewards=np.zeros(num_bandits)\n",
    "total_reward=np.zeros(num_bandits)\n",
    "e=0.1\n",
    "init=tf.global_variables_initializer()\n",
    "\n",
    "with tf.Session() as sess:\n",
    "    sess.run(init)\n",
    "    i=0\n",
    "    while i<total_episodes:\n",
    "        if np.random.randn(1)<e:\n",
    "            action=np.random.randint(num_bandits)\n",
    "        else:\n",
    "            action=sess.run(chosen_action)\n",
    "        \n",
    "        reward=pullBandit(bandits[action])\n",
    "        \n",
    "        _,resp,ww=sess.run([update,responsible_weight,weights],feed_dict={reward_holder:[reward],action_holder:[action]})\n",
    "        \n",
    "        total_reward[action]+=reward\n",
    "        if i % 50 == 0:\n",
    "            print(\"Running reward for the \" + str(num_bandits) + \" bandits: \" + str(total_reward))\n",
    "        i+=1\n",
    "print(\"The agent thinks bandit \" + str(np.argmax(ww)+1) + \" is the most promising....\")\n",
    "if np.argmax(ww) == np.argmax(-np.array(bandits)):\n",
    "    print(\"...and it was right!\")\n",
    "else:\n",
    "    print(\"...and it was wrong!\")"
   ]
  },
  {
   "cell_type": "code",
   "execution_count": null,
   "metadata": {},
   "outputs": [],
   "source": []
  }
 ],
 "metadata": {
  "kernelspec": {
   "display_name": "Python 3",
   "language": "python",
   "name": "python3"
  },
  "language_info": {
   "codemirror_mode": {
    "name": "ipython",
    "version": 3
   },
   "file_extension": ".py",
   "mimetype": "text/x-python",
   "name": "python",
   "nbconvert_exporter": "python",
   "pygments_lexer": "ipython3",
   "version": "3.6.4"
  }
 },
 "nbformat": 4,
 "nbformat_minor": 2
}
