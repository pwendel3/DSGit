{
 "cells": [
  {
   "cell_type": "code",
   "execution_count": 51,
   "metadata": {},
   "outputs": [],
   "source": [
    "import tensorflow as tf\n",
    "import os\n",
    "from tensorflow.examples.tutorials.mnist import input_data\n",
    "from datetime import datetime"
   ]
  },
  {
   "cell_type": "code",
   "execution_count": 52,
   "metadata": {},
   "outputs": [
    {
     "name": "stdout",
     "output_type": "stream",
     "text": [
      "Extracting /tmp/data/train-images-idx3-ubyte.gz\n",
      "Extracting /tmp/data/train-labels-idx1-ubyte.gz\n",
      "Extracting /tmp/data/t10k-images-idx3-ubyte.gz\n",
      "Extracting /tmp/data/t10k-labels-idx1-ubyte.gz\n"
     ]
    }
   ],
   "source": [
    "mnist=input_data.read_data_sets(\"/tmp/data/\")"
   ]
  },
  {
   "cell_type": "code",
   "execution_count": 53,
   "metadata": {},
   "outputs": [
    {
     "data": {
      "text/plain": [
       "['__add__',\n",
       " '__class__',\n",
       " '__contains__',\n",
       " '__delattr__',\n",
       " '__dir__',\n",
       " '__doc__',\n",
       " '__eq__',\n",
       " '__format__',\n",
       " '__ge__',\n",
       " '__getattribute__',\n",
       " '__getitem__',\n",
       " '__getnewargs__',\n",
       " '__gt__',\n",
       " '__hash__',\n",
       " '__init__',\n",
       " '__init_subclass__',\n",
       " '__iter__',\n",
       " '__le__',\n",
       " '__len__',\n",
       " '__lt__',\n",
       " '__module__',\n",
       " '__mul__',\n",
       " '__ne__',\n",
       " '__new__',\n",
       " '__reduce__',\n",
       " '__reduce_ex__',\n",
       " '__repr__',\n",
       " '__rmul__',\n",
       " '__setattr__',\n",
       " '__sizeof__',\n",
       " '__slots__',\n",
       " '__str__',\n",
       " '__subclasshook__',\n",
       " '_asdict',\n",
       " '_fields',\n",
       " '_make',\n",
       " '_replace',\n",
       " '_source',\n",
       " 'count',\n",
       " 'index',\n",
       " 'test',\n",
       " 'train',\n",
       " 'validation']"
      ]
     },
     "execution_count": 53,
     "metadata": {},
     "output_type": "execute_result"
    }
   ],
   "source": [
    "dir(mnist)"
   ]
  },
  {
   "cell_type": "code",
   "execution_count": 54,
   "metadata": {},
   "outputs": [],
   "source": [
    "n_inputs=mnist.train.images[0].shape[0]\n",
    "n_hidden_1=300\n",
    "n_hidden_2=300\n",
    "n_hidden_3=100\n",
    "n_outputs=10"
   ]
  },
  {
   "cell_type": "markdown",
   "metadata": {},
   "source": [
    "Construction Phase"
   ]
  },
  {
   "cell_type": "code",
   "execution_count": 55,
   "metadata": {},
   "outputs": [],
   "source": [
    "X=tf.placeholder(tf.float32,shape=(None,n_inputs),name=\"X\")\n",
    "y=tf.placeholder(tf.int64,shape=None,name='y')"
   ]
  },
  {
   "cell_type": "code",
   "execution_count": 56,
   "metadata": {
    "scrolled": true
   },
   "outputs": [],
   "source": [
    "with tf.name_scope('dnn'):\n",
    "    hidden1=tf.contrib.layers.fully_connected(X,n_hidden_1,scope='hidden1')\n",
    "    hidden2=tf.contrib.layers.fully_connected(hidden1,n_hidden_2,scope='hidden2')\n",
    "    hidden3=tf.contrib.layers.fully_connected(hidden2,n_hidden_3,scope='hidden3')\n",
    "    logits=tf.contrib.layers.fully_connected(hidden3,n_outputs,scope='outputs',\n",
    "                                             activation_fn=None)"
   ]
  },
  {
   "cell_type": "code",
   "execution_count": 57,
   "metadata": {
    "collapsed": true
   },
   "outputs": [],
   "source": [
    "with tf.name_scope('loss'):\n",
    "    xentropy=tf.nn.sparse_softmax_cross_entropy_with_logits(labels=y,logits=logits)\n",
    "    loss=tf.reduce_mean(xentropy,name='loss')"
   ]
  },
  {
   "cell_type": "code",
   "execution_count": 58,
   "metadata": {
    "collapsed": true
   },
   "outputs": [],
   "source": [
    "learning_rate=0.01"
   ]
  },
  {
   "cell_type": "code",
   "execution_count": 59,
   "metadata": {},
   "outputs": [
    {
     "name": "stdout",
     "output_type": "stream",
     "text": [
      "INFO:tensorflow:Summary name softmax cross entropy is illegal; using softmax_cross_entropy instead.\n"
     ]
    }
   ],
   "source": [
    "with tf.name_scope('train'):\n",
    "    optimizer=tf.train.AdamOptimizer()\n",
    "    training_op=optimizer.minimize(loss)\n",
    "    loss_summary=tf.summary.scalar('softmax cross entropy',loss)"
   ]
  },
  {
   "cell_type": "code",
   "execution_count": 60,
   "metadata": {
    "collapsed": true
   },
   "outputs": [],
   "source": [
    "with tf.name_scope('eval'):\n",
    "    correct=tf.nn.in_top_k(logits,y,1)\n",
    "    accuracy=tf.reduce_mean(tf.cast(correct,tf.float32))"
   ]
  },
  {
   "cell_type": "code",
   "execution_count": 61,
   "metadata": {
    "collapsed": true
   },
   "outputs": [],
   "source": [
    "def log_dir(prefix=''):\n",
    "    now=datetime.utcnow().strftime('%Y%m%d%H%M%S')\n",
    "    root_logdir='tf_logs'\n",
    "    if prefix:\n",
    "        prefix+='-'\n",
    "    name=prefix+'run-'+now\n",
    "    return \"{}/{}/\".format(root_logdir,name)\n"
   ]
  },
  {
   "cell_type": "code",
   "execution_count": 62,
   "metadata": {
    "collapsed": true
   },
   "outputs": [],
   "source": [
    "logdir=log_dir('mnist_98')\n",
    "file_writer=tf.summary.FileWriter(logdir,tf.get_default_graph())"
   ]
  },
  {
   "cell_type": "code",
   "execution_count": 63,
   "metadata": {
    "collapsed": true
   },
   "outputs": [],
   "source": [
    "init=tf.global_variables_initializer()\n",
    "saver=tf.train.Saver()"
   ]
  },
  {
   "cell_type": "markdown",
   "metadata": {},
   "source": [
    "Execution Phase"
   ]
  },
  {
   "cell_type": "code",
   "execution_count": 64,
   "metadata": {
    "collapsed": true
   },
   "outputs": [],
   "source": [
    "n_epochs=200\n",
    "batch_size=50\n",
    "checkpoint_path='/tmp/mnist_98_model.ckpt'\n",
    "checkpoint_epoch_path=checkpoint_path+'.epoch'\n",
    "final_model_path='./mnist_98_model'"
   ]
  },
  {
   "cell_type": "code",
   "execution_count": 65,
   "metadata": {},
   "outputs": [
    {
     "name": "stdout",
     "output_type": "stream",
     "text": [
      "19  Train accuracy: 1.0  Test accuracy: 0.979\n",
      "39  Train accuracy: 1.0  Test accuracy: 0.9794\n",
      "59  Train accuracy: 1.0  Test accuracy: 0.9825\n",
      "79  Train accuracy: 1.0  Test accuracy: 0.982\n",
      "99  Train accuracy: 1.0  Test accuracy: 0.981\n",
      "119  Train accuracy: 1.0  Test accuracy: 0.9794\n",
      "139  Train accuracy: 1.0  Test accuracy: 0.9832\n",
      "159  Train accuracy: 1.0  Test accuracy: 0.9844\n",
      "179  Train accuracy: 1.0  Test accuracy: 0.9844\n",
      "199  Train accuracy: 1.0  Test accuracy: 0.9844\n"
     ]
    }
   ],
   "source": [
    "with tf.Session() as sess:\n",
    "    \n",
    "    # check to see if existing weights from interruption\n",
    "    if os.path.isfile(checkpoint_epoch_path):\n",
    "        with open(checkpoint_epoch_path,'rb') as f:\n",
    "            start_epoch=int(f.read())\n",
    "            print('Training was interrupted. Continuing at epoch ',start_epoch)\n",
    "            saver.restore(sess,checkpoint_path)\n",
    "    else:\n",
    "        start_epoch=0\n",
    "        sess.run(init)\n",
    "        \n",
    "    for epoch in range(start_epoch,n_epochs): \n",
    "\n",
    "        for iteration in range(mnist.train.num_examples //batch_size):\n",
    "            X_batch, y_batch=mnist.train.next_batch(batch_size)\n",
    "            sess.run(training_op,feed_dict={X:X_batch,y:y_batch})\n",
    "        \n",
    "        acc_train=accuracy.eval(feed_dict={X:X_batch,y:y_batch})\n",
    "        acc_test=accuracy.eval(feed_dict={X:mnist.test.images,\n",
    "                                             y:mnist.test.labels})\n",
    "        loss_sum=loss_summary.eval(feed_dict={X:mnist.test.images,\n",
    "                                             y:mnist.test.labels})\n",
    "        file_writer.add_summary(loss_sum,epoch) \n",
    "        \n",
    "        \n",
    "        if (epoch+1)%20==0:\n",
    "            print(epoch,' Train accuracy:',acc_train,' Test accuracy:',acc_test)\n",
    "            saver.save(sess,checkpoint_path)\n",
    "            with open(checkpoint_epoch_path,'wb') as f:\n",
    "                f.write(b'%d'%(epoch+1))\n",
    "    save_path=saver.save(sess,'./mnist_98_final.ckpt')\n",
    "    file_writer.close()"
   ]
  },
  {
   "cell_type": "code",
   "execution_count": 66,
   "metadata": {
    "collapsed": true
   },
   "outputs": [],
   "source": [
    "#tf.reset_default_graph()"
   ]
  },
  {
   "cell_type": "code",
   "execution_count": null,
   "metadata": {
    "collapsed": true
   },
   "outputs": [],
   "source": []
  }
 ],
 "metadata": {
  "kernelspec": {
   "display_name": "Python 3",
   "language": "python",
   "name": "python3"
  },
  "language_info": {
   "codemirror_mode": {
    "name": "ipython",
    "version": 3
   },
   "file_extension": ".py",
   "mimetype": "text/x-python",
   "name": "python",
   "nbconvert_exporter": "python",
   "pygments_lexer": "ipython3",
   "version": "3.6.3"
  }
 },
 "nbformat": 4,
 "nbformat_minor": 2
}
