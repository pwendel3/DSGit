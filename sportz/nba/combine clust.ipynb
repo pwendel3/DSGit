{
 "cells": [
  {
   "cell_type": "code",
   "execution_count": 1,
   "metadata": {},
   "outputs": [],
   "source": [
    "import pandas as pd\n",
    "import nba_py\n",
    "import numpy as np\n",
    "import requests"
   ]
  },
  {
   "cell_type": "code",
   "execution_count": 2,
   "metadata": {},
   "outputs": [
    {
     "data": {
      "text/plain": [
       "array([2000, 2001, 2002, 2003, 2004, 2005, 2006, 2007, 2008, 2009, 2010,\n",
       "       2011, 2012, 2013, 2014, 2015, 2016, 2017, 2018])"
      ]
     },
     "execution_count": 2,
     "metadata": {},
     "output_type": "execute_result"
    }
   ],
   "source": [
    "np.arange(2000,2019)"
   ]
  },
  {
   "cell_type": "code",
   "execution_count": 4,
   "metadata": {},
   "outputs": [
    {
     "name": "stdout",
     "output_type": "stream",
     "text": [
      "http://stats.nba.com/stats/draftcombinestats?LeagueID=00&SeasonYear=2000-01\n",
      "<Response [403]>\n",
      "http://stats.nba.com/stats/draftcombinestats?LeagueID=00&SeasonYear=2001-02\n",
      "<Response [403]>\n",
      "http://stats.nba.com/stats/draftcombinestats?LeagueID=00&SeasonYear=2002-03\n",
      "<Response [403]>\n",
      "http://stats.nba.com/stats/draftcombinestats?LeagueID=00&SeasonYear=2003-04\n",
      "<Response [403]>\n",
      "http://stats.nba.com/stats/draftcombinestats?LeagueID=00&SeasonYear=2004-05\n",
      "<Response [403]>\n",
      "http://stats.nba.com/stats/draftcombinestats?LeagueID=00&SeasonYear=2005-06\n",
      "<Response [403]>\n",
      "http://stats.nba.com/stats/draftcombinestats?LeagueID=00&SeasonYear=2006-07\n",
      "<Response [403]>\n",
      "http://stats.nba.com/stats/draftcombinestats?LeagueID=00&SeasonYear=2007-08\n",
      "<Response [403]>\n",
      "http://stats.nba.com/stats/draftcombinestats?LeagueID=00&SeasonYear=2008-09\n",
      "<Response [403]>\n",
      "http://stats.nba.com/stats/draftcombinestats?LeagueID=00&SeasonYear=2009-10\n",
      "<Response [403]>\n",
      "http://stats.nba.com/stats/draftcombinestats?LeagueID=00&SeasonYear=2010-11\n",
      "<Response [403]>\n",
      "http://stats.nba.com/stats/draftcombinestats?LeagueID=00&SeasonYear=2011-12\n",
      "<Response [403]>\n",
      "http://stats.nba.com/stats/draftcombinestats?LeagueID=00&SeasonYear=2012-13\n",
      "<Response [403]>\n",
      "http://stats.nba.com/stats/draftcombinestats?LeagueID=00&SeasonYear=2013-14\n",
      "<Response [403]>\n",
      "http://stats.nba.com/stats/draftcombinestats?LeagueID=00&SeasonYear=2014-15\n",
      "<Response [403]>\n",
      "http://stats.nba.com/stats/draftcombinestats?LeagueID=00&SeasonYear=2015-16\n",
      "<Response [403]>\n",
      "http://stats.nba.com/stats/draftcombinestats?LeagueID=00&SeasonYear=2016-17\n",
      "<Response [403]>\n",
      "http://stats.nba.com/stats/draftcombinestats?LeagueID=00&SeasonYear=2017-18\n",
      "<Response [403]>\n",
      "http://stats.nba.com/stats/draftcombinestats?LeagueID=00&SeasonYear=2018-19\n",
      "<Response [403]>\n"
     ]
    }
   ],
   "source": [
    "for i in range(2000,2019):\n",
    "    path='http://stats.nba.com/stats/draftcombinestats?LeagueID=00&SeasonYear='+str(i)+'-'+str(i+1)[2:]\n",
    "    print(path)\n",
    "    req=requests.get(path)\n",
    "    print(req)"
   ]
  },
  {
   "cell_type": "code",
   "execution_count": null,
   "metadata": {},
   "outputs": [],
   "source": []
  }
 ],
 "metadata": {
  "kernelspec": {
   "display_name": "Python 3",
   "language": "python",
   "name": "python3"
  },
  "language_info": {
   "codemirror_mode": {
    "name": "ipython",
    "version": 3
   },
   "file_extension": ".py",
   "mimetype": "text/x-python",
   "name": "python",
   "nbconvert_exporter": "python",
   "pygments_lexer": "ipython3",
   "version": "3.6.4"
  }
 },
 "nbformat": 4,
 "nbformat_minor": 2
}
