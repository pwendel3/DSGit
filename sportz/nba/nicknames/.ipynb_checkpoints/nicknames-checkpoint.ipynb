{
 "cells": [
  {
   "cell_type": "code",
   "execution_count": 297,
   "metadata": {},
   "outputs": [],
   "source": [
    "from bs4 import BeautifulSoup \n",
    "import requests\n",
    "import re\n",
    "import numpy as np\n",
    "from keras.models import Sequential\n",
    "from keras.layers import Dense\n",
    "from keras.layers import Dropout\n",
    "from keras.layers import LSTM\n",
    "from keras.callbacks import ModelCheckpoint\n",
    "from keras.utils import np_utils\n",
    "\n",
    "import string\n",
    "\n",
    "\n",
    "from keras import optimizers"
   ]
  },
  {
   "cell_type": "code",
   "execution_count": 298,
   "metadata": {},
   "outputs": [],
   "source": [
    "fullpath='https://en.wikipedia.org/wiki/List_of_nicknames_used_in_basketball'"
   ]
  },
  {
   "cell_type": "code",
   "execution_count": 299,
   "metadata": {},
   "outputs": [],
   "source": [
    "soup=BeautifulSoup(requests.get(fullpath).text,'html.parser')"
   ]
  },
  {
   "cell_type": "code",
   "execution_count": 300,
   "metadata": {},
   "outputs": [],
   "source": [
    "# print(soup)"
   ]
  },
  {
   "cell_type": "code",
   "execution_count": 301,
   "metadata": {},
   "outputs": [],
   "source": [
    "# soup.findAll('div',{'class':'mw-content-ltr'})"
   ]
  },
  {
   "cell_type": "code",
   "execution_count": 302,
   "metadata": {
    "scrolled": true
   },
   "outputs": [],
   "source": [
    "uls=soup.findAll('ul')\n",
    "# i=0\n",
    "# for ul in uls:\n",
    "#     print(i)\n",
    "#     print(ul)\n",
    "#     i+=1"
   ]
  },
  {
   "cell_type": "code",
   "execution_count": 303,
   "metadata": {},
   "outputs": [],
   "source": [
    "namevecs=[]\n",
    "for ul in uls:\n",
    "    #print(i)\n",
    "    #print(ul)\n",
    "    lis=ul.findAll('li')\n",
    "    namevec=[li.getText() for li in lis]\n",
    "    namevecs+=namevec\n",
    "   "
   ]
  },
  {
   "cell_type": "code",
   "execution_count": 304,
   "metadata": {},
   "outputs": [],
   "source": [
    "nicknames=[]\n",
    "for namevec in namevecs:\n",
    "    #print(namevec)\n",
    "    names=re.findall(r'\\\"(.*?)\\\"',namevec)\n",
    "    nicknames+=names"
   ]
  },
  {
   "cell_type": "code",
   "execution_count": 305,
   "metadata": {},
   "outputs": [
    {
     "data": {
      "text/plain": [
       "3"
      ]
     },
     "execution_count": 305,
     "metadata": {},
     "output_type": "execute_result"
    }
   ],
   "source": [
    "len(nicknames)\n",
    "x=nicknames[0]\n",
    "x.find(' ')"
   ]
  },
  {
   "cell_type": "code",
   "execution_count": 306,
   "metadata": {},
   "outputs": [
    {
     "name": "stdout",
     "output_type": "stream",
     "text": [
      "695\n",
      "{'lickf', 'gambl', 'dream', 'fella', 'might', 'arena', 'jewis', 'big o', 'smoot', 'white', 'snake', 'team*', 'east*', 'never', 'goat*', 'the c', 'mamba', 'matri', 'slama', 'refri', 'big p', 'bad n', 'agent', 'herma', 'doggi', 'boute', 'ray t', 'goose', 'purpl', 'vince', 'silas', 'whopp', 'blitz', 'midai', 'pogo*', 'thund', 'of ho', 'big c', 'o nea', 'fredd', 'sexy*', 'shot ', 'broth', 'ready', 'cardi', 'midge', 'three', 'spud*', 'vanil', 'mutom', 'micro', 'curly', 'dance', 'sabas', 'houdi', 'round', 'contu', 'diggl', 'road ', 'my lo', 'foul ', 'beast', 'hope*', 'the j', 'easy ', 'icebe', 'mr. s', 'dirty', 'munst', 'roost', 'duran', 'the h', 'sam i', 'worm*', 'dunk*', 'serge', 'chief', 'truck', 'cuts*', 'pete*', 'love*', 'cream', 'berli', 'd fis', 'e.j.*', 'count', 'k mar', 'wilt ', 'maple', 'o san', 'mites', 'buddy', 'man h', 'moose', 'run t', 'paper', 'junky', 'shaqu', 'kicks', 'googs', 'zen m', 'speci', 'fab f', 'logo*', 'wave ', 'attac', 'trick', 'big m', 'swagg', 'kurt*', 'hoodi', 'mike*', 'kids*', 'game ', 'coke ', 'force', 'sir s', 'mt. m', 'blind', 'green', 'nervo', 'meado', 'sweet', 'news*', 'fedex', 'mooki', 'jimmy', 'space', 'jumpi', 'gino*', 'boy g', 'zeke*', 'mr. p', 'baske', 'gordo', 'joker', 'great', 'shutt', 'of al', 'booth', 'mr an', 'illin', 'house', 'nick ', 'mart*', 'stopp', 'sully', 'kobe ', 'tiny*', 'air g', 'larry', 'beli*', 'honey', 'gold ', 's dan', 'arche', 'swamp', 'proce', 'ice c', 'zero*', 'g.o.a', 'sugar', 'bosni', 'gallo', 'funda', 'happy', 'clutc', 'disap', 'the r', 'drew*', 'quick', 'warri', 'horro', 'the s', 't lik', 'juice', 'bosto', 'dutch', 'from ', 'downt', 'legen', 't mac', 'hot r', 'scrub', 'of mi', 'd ros', 'met a', 'maste', 'hanga', 'claw*', 'rip c', 'a.i.*', 'untou', 'the p', 'repub', 'piggy', 'five*', 'drumm', 'tommy', 'tea t', 'stret', 'johnn', 'coach', 'big z', 'stevi', 'melo*', 'heini', 'santa', 'brock', 'madis', 'of ch', 'dr. d', 'cooz*', 'dough', 'dolla', 'the k', 'noon*', 'pisto', 'dice*', 'starb', 'roara', 'l tra', 'satch', 'origi', 'the w', 'rebou', 'choco', 'rifle', 'dirk ', 'shaq ', 'answe', 'of pi', 'm o s', 'meyer', 'arrow', 'big g', 'slam ', 'moute', 'natur', 'born ', 'speed', 'lady ', 'z bo*', 'ack a', 'wild ', 'the d', 'wade*', 'swag*', 'l.a. ', 'bingo', 'sensa', 'lob c', 'mr. m', 'danci', 'servi', 'littl', 'phi s', 'cornb', 'tower', 'shoot', 'brow*', 'd wad', 'crash', 'shamr', 'germa', 'candy', 'congo', 'sofo*', 'get b', 'opals', 'blue*', 'assas', 'boogi', 'take*', 'wunde', 'a tra', 'man b', 'free*', 'of th', 'timbe', 'sande', 'golde', 'the u', 'popey', 'owl w', 'the o', 'shaq*', 'bizna', 'and o', 'kyrie', 'bosht', 'freak', 'athre', 's gre', 'the x', 'jelly', 'van e', ' stac', 'kidd*', 't tak', 'big f', 'chan*', 'all t', 'the b', 'sheed', 'cigar', 'mound', 'or wo', 'clyde', 'jesus', 'bear*', 'air j', 'rave*', 'train', 'linsa', 'stat*', 'bron ', 'juanc', 'band ', 'big s', 'delly', 'drago', 'democ', 'princ', 'mr. b', 'third', 'hive*', 'king*', 'skywa', 'socks', 'b. fr', 'river', 'boobi', 'bavar', 'swish', 'the n', 'excel', 'jail ', 'film*', 'amazi', 'beard', 'black', 'team ', 'stach', 'hound', 'capta', 'hardw', 'big b', 'chamb', 'mean*', 'spree', 'c web', 'built', 'palac', 'reign', 'a vow', 'baby*', 'knick', 'presi', 'bombe', 'krypt', 'el co', 'bizne', 'crawf', 'block', 'reape', 'king ', 'on yo', 'glide', 'panth', 'sleep', 'ameri', 'chef ', 'paul*', 'city*', 'enorm', 'day d', 'stifl', 'prett', 'ariza', 'the l', 'grind', 'hondo', 'glove', 'facto', 'fall ', 'chach', 'doubl', 'pearl', 'rags*', 'madho', 'dunca', 'mago*', 'westw', ' gian', 'boys*', 'slim*', 'monst', 'dick*', 'hawk*', 'thing', 'hole*', 'cable', 'mayor', 'mo bu', 'lick*', 'chuck', 'i am*', 'trece', 'hot p', 'the g', 'serva', 'manim', 'of re', 'stilt', 'ricky', 'mouse', 'spain', 'trayl', 'acrob', 'ticke', 'mailm', 'diese', 'hamme', 'x man', 'riles', 'man v', 'croat', 'deebo', 'dunke', 'the m', 'iggy*', 'of st', 'cobra', 'gets ', 'stran', 'falco', 'bill*', 'party', 'half ', 'bimbo', 'germi', 'hand*', 'il ga', 'bear ', 'frost', 'rose*', 'burri', 'will*', 'skip ', 'nealo', 'late ', 'ming ', 'i blo', 'big h', 'the t', 'dray*', 'canad', 'the i', 'memo*', 'papi*', 'mid l', 'ukrai', 'frenc', 'bron*', 'airne', 'sir c', 'chapo', 'wall ', 'garde', 'instr', 'grump', 'flipp', 'didn ', 'greek', 'the e', 'smoov', 'on ma', 'twin ', 'nelli', 'admir', 'jama*', 'john ', 'balle', 'nick*', 'kemba', 'racec', 'that ', 'of se', 'uno u', 'bubba', 'phone', 'horse', 'park*', 'truth', 'euro ', 'grand', 'bells', 'hair ', 'the f', 'out o', 'rhino', 'sad s', 'bevo*', 'cordi', 'il ma', 'cross', 'el ch', 'patri', 'machi', 'baby ', 'nacho', 'kille', 'silk*', 'dr. j', 'splas', 'arist', 'bones', 'jorda', 'killi', 'flyin', 'kandi', 'secre', 'tall*', 'termi', 'gorge', 'big t', 'blaze', 'hibac', 'j smo', 'late*', 'j cro', 'eleve', 'a sho', 'ankle', 'dunki', 'flash', 'big e', 'butch', 'bucke', 'big d', 'pervi', 'would', 'like ', 'numbe', 'tripl', 'penny', 'chair', 'bleds', 'j kid', 'birdm', 'rock*', 'dubs*', 'dawg*', 'alask', 'wizar', 'of we', 'human', 'polis', 'bizzy', 'sauce', 'craws', 'rolo*', 'el si', 'uncle', 'curry', 'icema', 'jungl', 'butte', 'peja*', 'mad d', 'stack', 'giant', 'mr. c', 'jr sw', 'vino*', 'hot i', 'pills', 'shaqt', 'hick ', 'kanga', 'faced', 'muggs', 'boome', 'fish*', 'akron', 'pizza', 'the a', 'shump', 'air c', 'g mon', 'vowel', 'china', ' elev', 'ghost', 'to my', 'franc', 'turki', 'squid', 'james', 'vinsa', 'casti', 'shaqo', 'man r', 'plast', 'state', 'bobby', 'blue ', 'russ*', 'stree', 'mario', 'blatt', 'cadil', 'waite', 'world', 'redee', 'crisc', 'high ', 'he di', 'life*', 'famil', 'webb*', 'kuill', 'easy*', 'shot*', 'steve', 'plate', 'victo', 'nasty', 'loud ', 'thief', 'big j', 'iron ', 'leani', 'field', 'prote', 'jeff*', 'mormo', 'super', 'insta', 'd wil', 'highl', 'jonny', 'slim ', 'glass', 'money', 'savag', 'spide', 'tract', 'squar', 'pitch', 'old m', 'young', 'alpha', 'switc', 'daddy', 'magic', 'tree*', 'ray r', 'chose', 'sid t', 'holy ', 'buck*', 'big a', 'goril', ' the ', 'sa ku', 'mecca', 'bad b', 'back ', 'dynas', 'juras', 'bean ', 'fabul', 'charl', 'time*', 'ilya*', 'g for', 'the q', 'steph', 'big n', 'witho', 'showt', 'crib ', 'forre', 'big k', 'custo', 'b eas', 'his a', 'tall ', 'earl ', 'pooh*', 'dippe', 'marav', 'slats'}\n"
     ]
    }
   ],
   "source": [
    "#nicknamevec=[re.sub('^The ','',i) for i in nicknames]\n",
    "nicknamevec=[re.sub('[^a-zA-Z .]+', ' ', i) for i in nicknames]\n",
    "nicknamevec=[re.sub('  ', ' ', i) for i in nicknamevec]\n",
    "nicknamevec=[(i.lower()+'*') for i in nicknamevec]\n",
    "starters=[]\n",
    "\n",
    "def find(s, ch):\n",
    "    return [i for i, ltr in enumerate(s) if ltr == ch]\n",
    "\n",
    "for i in nicknamevec:\n",
    "    adder=i[0:5]\n",
    "    if len(adder)==5:\n",
    "        starters.append(adder)\n",
    "        inds=find(i,' ')\n",
    "        for ind in inds:\n",
    "            adder=i[ind+1:ind+6]\n",
    "            if len(adder)==5:\n",
    "                starters.append(adder)\n",
    "#nicknamevec\n",
    "starters=set(starters)\n",
    "\n",
    "print(len(starters))\n",
    "print(starters)\n"
   ]
  },
  {
   "cell_type": "code",
   "execution_count": 307,
   "metadata": {},
   "outputs": [
    {
     "data": {
      "text/plain": [
       "{' ': 0,\n",
       " '*': 1,\n",
       " '.': 2,\n",
       " 'a': 3,\n",
       " 'b': 4,\n",
       " 'c': 5,\n",
       " 'd': 6,\n",
       " 'e': 7,\n",
       " 'f': 8,\n",
       " 'g': 9,\n",
       " 'h': 10,\n",
       " 'i': 11,\n",
       " 'j': 12,\n",
       " 'k': 13,\n",
       " 'l': 14,\n",
       " 'm': 15,\n",
       " 'n': 16,\n",
       " 'o': 17,\n",
       " 'p': 18,\n",
       " 'q': 19,\n",
       " 'r': 20,\n",
       " 's': 21,\n",
       " 't': 22,\n",
       " 'u': 23,\n",
       " 'v': 24,\n",
       " 'w': 25,\n",
       " 'x': 26,\n",
       " 'y': 27,\n",
       " 'z': 28}"
      ]
     },
     "execution_count": 307,
     "metadata": {},
     "output_type": "execute_result"
    }
   ],
   "source": [
    "chars=[y for x in nicknamevec for y in x]\n",
    "chars=sorted(list(set(chars)))\n",
    "n_vocab=len(chars)\n",
    "chars\n",
    "char_to_int=dict((c,i) for i,c in enumerate(chars))\n",
    "char_to_int"
   ]
  },
  {
   "cell_type": "code",
   "execution_count": 308,
   "metadata": {},
   "outputs": [
    {
     "name": "stdout",
     "output_type": "stream",
     "text": [
      "Total Patterns:  4008\n"
     ]
    }
   ],
   "source": [
    "seq_length=5\n",
    "dataX=[]\n",
    "dataY=[]\n",
    "for j in nicknamevec:\n",
    "    n_chars=len(j)\n",
    "    for i in range(0, n_chars - seq_length, 1):\n",
    "        seq_in = j[i:i + seq_length]\n",
    "        seq_out = j[i + seq_length]\n",
    "        dataX.append([char_to_int[char] for char in seq_in])\n",
    "        dataY.append(char_to_int[seq_out])\n",
    "    n_patterns = len(dataX)\n",
    "print(\"Total Patterns: \", n_patterns)"
   ]
  },
  {
   "cell_type": "code",
   "execution_count": 309,
   "metadata": {},
   "outputs": [],
   "source": [
    "X=np.reshape(dataX,(n_patterns,seq_length,1))\n",
    "X=X/float(n_vocab)\n",
    "y=np_utils.to_categorical(dataY)"
   ]
  },
  {
   "cell_type": "code",
   "execution_count": 310,
   "metadata": {},
   "outputs": [
    {
     "data": {
      "text/plain": [
       "array([[[0.75862069],\n",
       "        [0.34482759],\n",
       "        [0.24137931],\n",
       "        [0.        ],\n",
       "        [0.17241379]],\n",
       "\n",
       "       [[0.34482759],\n",
       "        [0.24137931],\n",
       "        [0.        ],\n",
       "        [0.17241379],\n",
       "        [0.10344828]],\n",
       "\n",
       "       [[0.24137931],\n",
       "        [0.        ],\n",
       "        [0.17241379],\n",
       "        [0.10344828],\n",
       "        [0.62068966]],\n",
       "\n",
       "       ...,\n",
       "\n",
       "       [[0.24137931],\n",
       "        [0.        ],\n",
       "        [0.13793103],\n",
       "        [0.5862069 ],\n",
       "        [0.5862069 ]],\n",
       "\n",
       "       [[0.        ],\n",
       "        [0.13793103],\n",
       "        [0.5862069 ],\n",
       "        [0.5862069 ],\n",
       "        [0.75862069]],\n",
       "\n",
       "       [[0.13793103],\n",
       "        [0.5862069 ],\n",
       "        [0.5862069 ],\n",
       "        [0.75862069],\n",
       "        [0.34482759]]])"
      ]
     },
     "execution_count": 310,
     "metadata": {},
     "output_type": "execute_result"
    }
   ],
   "source": [
    "X"
   ]
  },
  {
   "cell_type": "code",
   "execution_count": 311,
   "metadata": {},
   "outputs": [],
   "source": [
    "cells=256\n",
    "dropout=0.3\n",
    "hidden_layers=5\n",
    "#lr=0.1\n",
    "opti=optimizers.adam(clipnorm =1)"
   ]
  },
  {
   "cell_type": "code",
   "execution_count": 312,
   "metadata": {},
   "outputs": [],
   "source": [
    "model=Sequential()\n",
    "model.add(LSTM(cells,input_shape=(X.shape[1],X.shape[2]),return_sequences=True))\n",
    "model.add(Dropout(dropout))\n",
    "for i in range(hidden_layers-1):\n",
    "    model.add(LSTM(cells,return_sequences=True))\n",
    "    model.add(Dropout(dropout))\n",
    "model.add(LSTM(cells))\n",
    "model.add(Dropout(dropout))\n",
    "model.add(Dense(y.shape[1],activation='softmax'))\n",
    "model.compile(loss='categorical_crossentropy',optimizer=opti)"
   ]
  },
  {
   "cell_type": "code",
   "execution_count": null,
   "metadata": {},
   "outputs": [],
   "source": [
    "#filepath=\"weights-improvement-{epoch:02d}-{loss:.4f}.hdf5\"\n",
    "#checkpoint = ModelCheckpoint(filepath, monitor='loss', verbose=1, save_best_only=True, mode='min')\n",
    "#callbacks_list = [checkpoint]"
   ]
  },
  {
   "cell_type": "code",
   "execution_count": null,
   "metadata": {},
   "outputs": [
    {
     "name": "stdout",
     "output_type": "stream",
     "text": [
      "Epoch 1/100\n",
      "4008/4008 [==============================] - 42s 11ms/step - loss: 3.0668\n",
      "Epoch 2/100\n",
      "1344/4008 [=========>....................] - ETA: 23s - loss: 3.0340"
     ]
    }
   ],
   "source": [
    "model.fit(X,y,epochs=100,batch_size=64)"
   ]
  },
  {
   "cell_type": "code",
   "execution_count": null,
   "metadata": {},
   "outputs": [],
   "source": [
    "int_to_char=dict((i,c) for i,c in enumerate(chars))"
   ]
  },
  {
   "cell_type": "code",
   "execution_count": null,
   "metadata": {},
   "outputs": [],
   "source": [
    "start=np.random.randint(0,len(dataX)-1)\n",
    "pattern=dataX[start]\n",
    "nameout='peter'\n",
    "pattern=[char_to_int[char] for char in nameout]\n",
    "patternin=pattern\n",
    "print(pattern)"
   ]
  },
  {
   "cell_type": "code",
   "execution_count": null,
   "metadata": {},
   "outputs": [],
   "source": [
    "for i in range(25):\n",
    "    x=np.reshape(pattern,(1,len(pattern),1))\n",
    "    x=x/float(n_vocab)\n",
    "    prediction=model.predict(x,verbose=0)\n",
    "    index=np.argmax(prediction)\n",
    "    result=int_to_char[index]\n",
    "    nameout+=result\n",
    "    seq_in=[int_to_char[value] for value in pattern]\n",
    "    #print(result)\n",
    "    pattern.append(index)\n",
    "    pattern=pattern[1:len(pattern)]\n",
    "    if result=='*':\n",
    "        break"
   ]
  },
  {
   "cell_type": "code",
   "execution_count": null,
   "metadata": {},
   "outputs": [],
   "source": [
    "print(nameout)"
   ]
  },
  {
   "cell_type": "code",
   "execution_count": null,
   "metadata": {},
   "outputs": [],
   "source": [
    "thes=[re.findall('^The',nickname) for nickname in nicknames]\n",
    "thes"
   ]
  },
  {
   "cell_type": "code",
   "execution_count": null,
   "metadata": {},
   "outputs": [],
   "source": [
    "lets=string.ascii_lowercase\n",
    "invec=[]\n",
    "starters=list(starters)\n",
    "for l in lets:\n",
    "    starters.append('the '+l)\n",
    "    starters.append('big '+l)\n",
    "    starters.append('all '+l)\n",
    "    starters.append('any '+l)\n",
    "    starters.append('old '+l)\n",
    "    starters.append('mr. '+l)\n",
    "    starters.append('dr. '+l)\n",
    "    \n",
    "starters=list(set(starters))"
   ]
  },
  {
   "cell_type": "code",
   "execution_count": null,
   "metadata": {},
   "outputs": [],
   "source": [
    "invec"
   ]
  },
  {
   "cell_type": "code",
   "execution_count": null,
   "metadata": {
    "scrolled": false
   },
   "outputs": [],
   "source": [
    "for instart in starters:\n",
    "    nameout=instart\n",
    "    pattern=[char_to_int[char] for char in nameout]\n",
    "    for i in range(25):\n",
    "        x=np.reshape(pattern,(1,len(pattern),1))\n",
    "        x=x/float(n_vocab)\n",
    "        prediction=model.predict(x,verbose=0)\n",
    "        index=np.argmax(prediction)\n",
    "        result=int_to_char[index]\n",
    "        nameout+=result\n",
    "        seq_in=[int_to_char[value] for value in pattern]\n",
    "        #print(result)\n",
    "        pattern.append(index)\n",
    "        pattern=pattern[1:len(pattern)]\n",
    "        if result=='*':\n",
    "            print(nameout)\n",
    "            break\n",
    "        "
   ]
  },
  {
   "cell_type": "code",
   "execution_count": null,
   "metadata": {},
   "outputs": [],
   "source": []
  }
 ],
 "metadata": {
  "kernelspec": {
   "display_name": "Python 3",
   "language": "python",
   "name": "python3"
  },
  "language_info": {
   "codemirror_mode": {
    "name": "ipython",
    "version": 3
   },
   "file_extension": ".py",
   "mimetype": "text/x-python",
   "name": "python",
   "nbconvert_exporter": "python",
   "pygments_lexer": "ipython3",
   "version": "3.6.4"
  }
 },
 "nbformat": 4,
 "nbformat_minor": 2
}
